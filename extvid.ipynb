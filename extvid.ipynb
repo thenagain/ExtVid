{
 "cells": [
  {
   "cell_type": "markdown",
   "metadata": {},
   "source": [
    "# ExtVid"
   ]
  },
  {
   "cell_type": "markdown",
   "metadata": {},
   "source": [
    "## Import"
   ]
  },
  {
   "cell_type": "code",
   "execution_count": null,
   "metadata": {},
   "outputs": [],
   "source": [
    "import cv2\n",
    "import numpy as np\n",
    "import moviepy.editor as mp\n",
    "import os"
   ]
  },
  {
   "cell_type": "markdown",
   "metadata": {},
   "source": [
    "## Define ExtVid"
   ]
  },
  {
   "cell_type": "code",
   "execution_count": null,
   "metadata": {},
   "outputs": [],
   "source": [
    "def extvid(path_input_video, path_output_video):\n",
    "    \n",
    "    input_video = cv2.VideoCapture(path_input_video)\n",
    "    \n",
    "    if not input_video.isOpened():\n",
    "        print(\"Input video can't be opened\")\n",
    "        return\n",
    "    \n",
    "    WIDTH = int(input_video.get(cv2.CAP_PROP_FRAME_WIDTH))\n",
    "    HEIGHT = int(input_video.get(cv2.CAP_PROP_FRAME_HEIGHT))\n",
    "    FPS = input_video.get(cv2.CAP_PROP_FPS)\n",
    "    \n",
    "    HALF_WIDTH = int(WIDTH/2)\n",
    "    HALF_HEIGHT = int(HEIGHT/2)\n",
    "    \n",
    "    QUARTER_WIDTH = int(HALF_WIDTH/2)\n",
    "    QUARTER_HEIGHT = int(HALF_HEIGHT/2)\n",
    "    \n",
    "    PATH_MASK_IMG = './img/mask.jpg'\n",
    "    PATH_WHITE_IMG = './img/white.jpg'\n",
    "\n",
    "    # encoder(for mp4)\n",
    "    FOURCC = cv2.VideoWriter_fourcc('m', 'p', '4', 'v')\n",
    "    \n",
    "    # output file name, encoder, fps, size(fit to image size)\n",
    "    output_video = cv2.VideoWriter(path_output_video, FOURCC, FPS, (WIDTH, HEIGHT))\n",
    "    \n",
    "    if not output_video.isOpened():\n",
    "        print(\"Output video can't be opened\")\n",
    "        return\n",
    "\n",
    "    # For internal masked image\n",
    "    mask_img = cv2.imread(PATH_MASK_IMG)\n",
    "    mask_img = cv2.resize(mask_img, (WIDTH, HEIGHT), interpolation=cv2.INTER_NEAREST)\n",
    "    \n",
    "    white_img = cv2.imread(PATH_WHITE_IMG)\n",
    "    white_img_half = cv2.resize(white_img, (HALF_WIDTH, HALF_HEIGHT), interpolation=cv2.INTER_NEAREST)\n",
    "    \n",
    "    # For external masked image\n",
    "    white_img_vcon = cv2.resize(white_img, (HALF_WIDTH, QUARTER_HEIGHT), interpolation=cv2.INTER_NEAREST)\n",
    "    white_img_hcon = cv2.resize(white_img, (QUARTER_WIDTH, HEIGHT), interpolation=cv2.INTER_NEAREST)\n",
    "    \n",
    "    \n",
    "    while True:\n",
    "        ret, frame = input_video.read()\n",
    "        if ret:\n",
    "            half_frame = cv2.resize(frame, dsize=(HALF_WIDTH, HALF_HEIGHT), interpolation=cv2.INTER_AREA)\n",
    "            \n",
    "            external_masked_img = cv2.vconcat([white_img_vcon, half_frame, white_img_vcon])\n",
    "            external_masked_img = cv2.hconcat([white_img_hcon, external_masked_img, white_img_hcon])\n",
    "            \n",
    "            internal_masked_img = cv2.bitwise_or(frame, mask_img)\n",
    "            \n",
    "            blended_img = cv2.bitwise_and(internal_masked_img, external_masked_img)\n",
    "        \n",
    "            blurred_img = cv2.blur(blended_img, (51,51))\n",
    "        \n",
    "            result_img = cv2.seamlessClone(half_frame, blurred_img, white_img_half, (HALF_WIDTH, HALF_HEIGHT), cv2.NORMAL_CLONE)\n",
    "            \n",
    "            output_video.write(result_img)\n",
    "        else:\n",
    "            break\n",
    "            \n",
    "    output_video.release()\n",
    "\n",
    "    # add audio\n",
    "    clip_input = mp.VideoFileClip(path_input_video).subclip()\n",
    "    clip_output = mp.VideoFileClip(path_output_video).subclip()\n",
    "    clip_output = clip_output.set_audio(clip_input.audio)\n",
    "    os.remove(path_output_video)\n",
    "    clip_output.write_videofile(path_output_video, temp_audiofile=\"temp-audio.m4a\", remove_temp=True, codec=\"libx264\", audio_codec=\"aac\")"
   ]
  },
  {
   "cell_type": "markdown",
   "metadata": {},
   "source": [
    "## Use ExtVid as below\n",
    "You can use ExtVid only to prepare input video file.\n",
    "\n",
    "### ExtVid　Arguments\n",
    "\n",
    "1. path of input video\n",
    "\n",
    "2. path of output video"
   ]
  },
  {
   "cell_type": "code",
   "execution_count": null,
   "metadata": {},
   "outputs": [],
   "source": [
    "extvid('./input.mp4', './output.mp4')"
   ]
  }
 ],
 "metadata": {
  "kernelspec": {
   "display_name": "Python 3",
   "language": "python",
   "name": "python3"
  },
  "language_info": {
   "codemirror_mode": {
    "name": "ipython",
    "version": 3
   },
   "file_extension": ".py",
   "mimetype": "text/x-python",
   "name": "python",
   "nbconvert_exporter": "python",
   "pygments_lexer": "ipython3",
   "version": "3.7.2"
  }
 },
 "nbformat": 4,
 "nbformat_minor": 2
}
